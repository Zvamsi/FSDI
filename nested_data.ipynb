{
 "cells": [
  {
   "cell_type": "code",
   "execution_count": null,
   "id": "cfe417bd",
   "metadata": {},
   "outputs": [
    {
     "name": "stdout",
     "output_type": "stream",
     "text": [
      "Div <class 'str'>\n",
      "niaM <class 'str'>\n",
      "eraW <class 'str'>\n"
     ]
    }
   ],
   "source": [
    "company = {\n",
    "'about': {\n",
    "'details': (\n",
    "\"NextGenCorp\",\n",
    "{\"HQ\": \"Bangalore\", \"founded\": 2005},\n",
    "[\"TechDivision\", \"AI-Lab\"]\n",
    "),\n",
    "'industry': {\"main\": \"Software\", \"sub\": {\"type\": \"AI\"}}\n",
    "},\n",
    "'employees': {\n",
    "'e1': [\"Ramesh\", 32, {\"city\": \"Mysore\", \"dept\": \"AI\"}],\n",
    "'e2': (\"Divya\", 29, {\"city\": \"Hyderabad\", \"skills\": {\"Python\", \"ML\"}}),\n",
    "'e3': [\"Kiran\", 28, {\"city\": \"Chennai\"}]\n",
    "},\n",
    "'partners': {(\"IBM\", \"Cloud\"), (\"Amazon\", \"AWS\")}\n",
    "}"
   ]
  },
  {
   "cell_type": "code",
   "execution_count": 74,
   "id": "eab7f196",
   "metadata": {},
   "outputs": [
    {
     "name": "stdout",
     "output_type": "stream",
     "text": [
      "e2 Divya 29 dabaredyH ayviD 2e Gen Corp Ban AI- Lab Nex Sof ML Pyt proC txeN AWS\n",
      "HQ AWS IBM Hyd Div niaM eraW "
     ]
    }
   ],
   "source": [
    "\n",
    "one=list(company['employees'].keys())[1]\n",
    "print(one,end=' ')\n",
    "\n",
    "two=list(company.get('employees').values())[1][0]\n",
    "print(two,end=' ')\n",
    "\n",
    "three=list(company['employees'].values())[1][1]\n",
    "print(three,end=' ')\n",
    "\n",
    "four=list(company.get('employees').values())[1][2].get('city')[::-1]\n",
    "print(four,end=' ')\n",
    "\n",
    "five=list(company.get('employees').values())[1][0][::-1]\n",
    "print(five,end=' ')\n",
    "\n",
    "six=list(company['employees'].keys())[1][::-1]\n",
    "print(six,end=' ')\n",
    "\n",
    "seven=company['about']['details'][0][4:7]\n",
    "print(seven,end=' ')\n",
    "\n",
    "eight=company['about']['details'][0][7:]\n",
    "print(eight,end=' ')\n",
    "\n",
    "nine=company['about']['details'][1]['HQ'][:3]\n",
    "print(nine,end=' ')\n",
    "\n",
    "ten=company['about']['details'][2][1][:3]\n",
    "print(ten,end=' ')\n",
    "\n",
    "eleven=company['about']['details'][2][1][3:]\n",
    "print(eleven,end=' ')\n",
    "\n",
    "twelve=company['about']['details'][0][:3]\n",
    "print(twelve,end=' ')\n",
    "\n",
    "thirteen=company['about']['industry']['main'][:3]\n",
    "print(thirteen,end=' ')\n",
    "\n",
    "fourteen=list(list(company['employees'].values())[1][2]['skills'])[1]\n",
    "print(fourteen,end=' ')\n",
    "\n",
    "fifteen=list(list(company['employees'].values())[1][2]['skills'])[0][:3]\n",
    "print(fifteen,end=' ')\n",
    "\n",
    "sixteen=company['about']['details'][0][:-5:-1]\n",
    "print(sixteen,end=' ')\n",
    "\n",
    "seventeen=company['about']['details'][0][3::-1]\n",
    "print(seventeen,end=' ')\n",
    "\n",
    "eighteen=list(company['partners'])[0][1]\n",
    "print(eighteen)\n",
    "\n",
    "nineteen=list(company['about']['details'][1].keys())[0]\n",
    "print(nineteen,end=' ')\n",
    "\n",
    "twenty=list(company['partners'])[0][1]\n",
    "print(twenty,end=' ')\n",
    "\n",
    "twenty_one=list(company['partners'])[1][0]\n",
    "print(twenty_one,end=' ')\n",
    "\n",
    "twenty_two=list(company['employees'].values())[1][2]['city'][:3]\n",
    "print(twenty_two,end=' ')\n",
    "\n",
    "twenty_three=list(company['employees'].values())[1][0][:3]\n",
    "print(twenty_three,end=' ')\n",
    "\n",
    "twenty_five=list(company['about']['industry'].keys())[0].title()[::-1]\n",
    "print(twenty_five,end=' ')\n",
    "\n",
    "twenty_six=company['about']['industry']['main'][-4:].title()[::-1]\n",
    "print(twenty_six,end=' ')"
   ]
  },
  {
   "cell_type": "code",
   "execution_count": 25,
   "id": "111bff94",
   "metadata": {},
   "outputs": [
    {
     "name": "stdout",
     "output_type": "stream",
     "text": [
      "hckcolB, Chi, NYK, oneD\n"
     ]
    }
   ],
   "source": [
    "project = {\n",
    "'meta': {\n",
    "'client': (\"TechWorld\", {\"location\": [\"NewYork\", \"USA\"]}),\n",
    "'domain': {\"sector\": \"FinTech\", \"focus\": (\"Blockchain\", \"AI\")}\n",
    "},\n",
    "'team': {\n",
    "'t1': [\"Sonia\", 26, {\"city\": \"Boston\"}],\n",
    "'t2': [\"Arjun\", 27, {\"city\": \"Chicago\", \"stack\": [\"Django\", \"React\"]}]\n",
    "},\n",
    "'review': [\n",
    "{\"phase\": 1, \"status\": \"done\"},\n",
    "{\"phase\": 2, \"status\": \"pending\"}\n",
    "]\n",
    "}\n",
    "sixteen=project['meta']['domain']['focus'][0][-4::-1]\n",
    "print(sixteen,end=', ')\n",
    "eighteen=project['team']['t2'][2]['city'][:3]\n",
    "print(eighteen,end=', ')\n",
    "\n",
    "nineteen=project['meta']['client'][1]['location'][0][::3].upper()\n",
    "print(nineteen,end=', ')\n",
    "twenty=project['review'][0]['status'][1:]+project['review'][0]['status'][0::-1].upper()\n",
    "print(twenty)\n"
   ]
  },
  {
   "cell_type": "markdown",
   "id": "337ab7d4",
   "metadata": {},
   "source": [
    "\"t2\", \"Arjun\", 27,\n",
    "\"ogacihC\", \"nujrA\", \"2t\",\n",
    "\"Tec\", \"hWo\", \"Blo\", \"AI\", \"New\",\n",
    "\"Fin\", \"Dja\", \"Rea\", \"USA\",\n",
    "\"hctolB\", \"nioF\", \"worW\",\n",
    "\"raj\", \"Chi\", \"NYC\",\n",
    "\"cnaP\", \"oneD\""
   ]
  },
  {
   "cell_type": "code",
   "execution_count": null,
   "id": "dd07ea4a",
   "metadata": {},
   "outputs": [],
   "source": [
    "first=list(project['team'])[1]\n",
    "print(first,end=', ')\n",
    "second=list(project['team'].values())[1][0]\n",
    "print(second,end=', ')\n",
    "third=list(project['team'].values())[1][1]\n",
    "print(third,end=',\\n')\n",
    "fourth=list(project['team'].values())[1][2]['city'][::-1]\n",
    "print(fourth,end=', ')\n",
    "fifth=list(project['team'].values())[1][0][::-1]\n",
    "print(fifth,end=', ')\n",
    "six=list(project['team'].keys())[1][::-1]\n",
    "print(six,end=',\\n')\n",
    "seven=project['meta']['client'][0][:3]\n",
    "print(seven,end=', ')\n",
    "eight=project['meta']['client'][0][3:6]\n",
    "print(eight,end=', ')\n",
    "nine=project['meta']['domain']['focus'][0][:3]\n",
    "print(nine,end=', ')\n",
    "ten=project['meta']['domain']['focus'][1]\n",
    "print(ten,end=', ')\n",
    "eleven=project['meta']['client'][1]['location'][0][:3]\n",
    "print(eleven)\n",
    "twelve=project['meta']['domain']['sector'][:3]\n",
    "print(twelve,end=', ')\n",
    "thirteen=project['team']['t2'][2]['stack'][0][:3]\n",
    "print(thirteen,end=', ')\n",
    "fourteen=project['team']['t2'][2]['stack'][1][:3]\n",
    "print(fourteen,end=', ')\n",
    "fifteen=project['meta']['client'][1]['location'][1]\n",
    "print(fifteen,end=', ')"
   ]
  },
  {
   "cell_type": "code",
   "execution_count": 34,
   "id": "dec5b94f",
   "metadata": {},
   "outputs": [
    {
     "name": "stdout",
     "output_type": "stream",
     "text": [
      "s2, Nikhil, 25, rupgaN, lihkiN, 2s, Alp, Bet, Hea, lth, Mum, Sol, ABS, IoT, ML, AI, hpla, BA, iabmuM, ABS-25\n"
     ]
    }
   ],
   "source": [
    "startup = {\n",
    "'info': {\n",
    "'name': {\"long\": \"AlphaBetaSolutions\", \"short\": \"ABS\"},\n",
    "'origin': (\"Mumbai\", {\"zone\": \"West-India\"}),\n",
    "'focus': {\"primary\": \"HealthTech\", \"extra\": {\"AI\", \"IoT\", \"ML\"}}\n",
    "},\n",
    "'staff': {\n",
    "'s1': [\"Priya\", 24, {\"city\": \"Pune\"}],\n",
    "'s2': (\"Nikhil\", 25, {\"city\": \"Nagpur\"}),\n",
    "'s3': [\"Sonal\", 26, {\"city\": \"Goa\"}]\n",
    "},\n",
    "'funding': (2020, 2021, {\"SeriesA\": \"Sequoia\"})\n",
    "}\n",
    "a=list(startup['staff'].keys())[1]\n",
    "b=startup['staff']['s2'][0]\n",
    "c=startup['staff']['s2'][1]\n",
    "d=startup['staff']['s2'][2]['city'][::-1]\n",
    "e=startup['staff']['s2'][0][::-1]\n",
    "f=list(startup['staff'].keys())[1][::-1]\n",
    "g=startup['info']['name']['long'][:3]\n",
    "h=startup['info']['name']['long'][5:8]\n",
    "i=startup['info']['focus']['primary'][:3]\n",
    "j=startup['info']['focus']['primary'][3:6]\n",
    "k=startup['info']['origin'][0][:3]\n",
    "l=startup['info']['name']['long'][9:12]\n",
    "m=startup['info']['name']['short']\n",
    "n=list(startup['info']['focus']['extra'])[1]\n",
    "o=list(startup['info']['focus']['extra'])[0]\n",
    "p=list(startup['info']['focus']['extra'])[2]\n",
    "q=startup['info']['name']['long'][3::-1].lower()\n",
    "r=startup['info']['name']['short'][1::-1]\n",
    "s=startup['info']['origin'][0][::-1]\n",
    "t=f'{startup['info']['name']['short']}-{startup['staff']['s2'][1]}'\n",
    "print(a,b,c,d,e,f,g,h,i,j,k,l,m,n,o,p,q,r,s,t,sep=', ')\n"
   ]
  },
  {
   "cell_type": "markdown",
   "id": "4cbd30f6",
   "metadata": {},
   "source": [
    "\"s2\", \"Nikhil\", 25,\n",
    "\"rupgaN\", \"lihkiN\", \"2s\",\n",
    "\"Alp\", \"Bet\", \"Hea\", \"lth\", \"Mun\",\n",
    "\"Sol\", \"ABS\", \"IoT\", \"ML\", \"AI\",\n",
    "\"hpla\", \"atoN\", \"uoya\",\n",
    "\"BA\", \"FGH\", \"iaibmuM\",\n",
    "\"etaB\", \"Sno\", \"ABS-25\"\n"
   ]
  },
  {
   "cell_type": "code",
   "execution_count": null,
   "id": "bdf99e80",
   "metadata": {},
   "outputs": [],
   "source": [
    "university = {\n",
    "'institution': {\n",
    "'name': (\"FutureGlobal\", {\"abbr\": \"FGU\"}),\n",
    "'location': {\"city\": \"London\", \"country\": (\"UK\", \"Europe\")},\n",
    "'dept_count': 12\n",
    "},\n",
    "'departments': {\n",
    "'d1': [\"Law\", \"Prof. Amy\", {\"block\": \"A1\"}],\n",
    "'d2': [\"Medicine\", \"Prof. Raj\", {\"block\": \"B2\"}],\n",
    "'d3': (\"Engineering\", \"Prof. John\", {\"block\": \"C3\"})\n",
    "},\n",
    "'students': {\n",
    "'s1': [\"Aria\", 20, {\"block\": \"B2\"}],\n",
    "'s2': [\"Dev\", 21, {\"block\": \"C3\"}],\n",
    "'s3': (\"Rohan\", 22, {\"block\": \"A1\"})\n",
    "},\n",
    "'clubs': [\n",
    "{\"type\": \"sports\", \"teams\": {\"cricket\", \"football\"}},\n",
    "{\"type\": \"coding\", \"teams\": {\"AI\", \"ML\"}}\n",
    "]\n",
    "}\n"
   ]
  },
  {
   "cell_type": "markdown",
   "id": "ef7e45b6",
   "metadata": {},
   "source": [
    "\"s3\", \"Rohan\", 22,\n",
    "\"1A-kcolb\", \"nahoR\", \"3s\",\n",
    "\"Fut\", \"Glo\", \"Lon\", \"don\", \"Eng\",\n",
    "\"FGU\", \"spo\", \"cod\", \"UK\", \"Eur\",\n",
    "\"ralboG\", \"eni\", \"donL\", \"AI\", \"ML\",\n",
    "\"cenig\", \"awoL\", \"rajP\", \"Dev\""
   ]
  }
 ],
 "metadata": {
  "kernelspec": {
   "display_name": "Python 3",
   "language": "python",
   "name": "python3"
  },
  "language_info": {
   "codemirror_mode": {
    "name": "ipython",
    "version": 3
   },
   "file_extension": ".py",
   "mimetype": "text/x-python",
   "name": "python",
   "nbconvert_exporter": "python",
   "pygments_lexer": "ipython3",
   "version": "3.13.5"
  }
 },
 "nbformat": 4,
 "nbformat_minor": 5
}
